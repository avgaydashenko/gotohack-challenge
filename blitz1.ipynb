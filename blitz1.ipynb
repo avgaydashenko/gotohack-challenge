{
 "cells": [
  {
   "cell_type": "code",
   "execution_count": 1,
   "metadata": {
    "collapsed": true
   },
   "outputs": [],
   "source": [
    "import pandas as pd\n",
    "import numpy as np"
   ]
  },
  {
   "cell_type": "code",
   "execution_count": 2,
   "metadata": {
    "collapsed": true
   },
   "outputs": [],
   "source": [
    "events = pd.read_csv('blitz/course-217-events.csv')\n",
    "structure = pd.read_csv('blitz/course-217-structure.csv')"
   ]
  },
  {
   "cell_type": "code",
   "execution_count": 3,
   "metadata": {
    "collapsed": false
   },
   "outputs": [],
   "source": [
    "users = np.unique(np.array(events['user_id']))\n",
    "valuable_steps = np.array(structure[structure['step_cost'] > 0]['step_id'])"
   ]
  },
  {
   "cell_type": "code",
   "execution_count": 4,
   "metadata": {
    "collapsed": true
   },
   "outputs": [],
   "source": [
    "PASS_SCORE = 24"
   ]
  },
  {
   "cell_type": "code",
   "execution_count": 5,
   "metadata": {
    "collapsed": false
   },
   "outputs": [],
   "source": [
    "passed_users = []\n",
    "\n",
    "for user in users:\n",
    "    user_events = events[events['user_id'] == user]\n",
    "    passed_steps = np.array(user_events[user_events['action'] == 'passed']['step_id'])\n",
    "    steps_with_score = np.intersect1d(passed_steps, valuable_steps)\n",
    "    \n",
    "    if steps_with_score.size >= PASS_SCORE:\n",
    "        start_time = min(user_events['time'])\n",
    "        steps_with_score_events = user_events.loc[user_events['step_id'].isin(steps_with_score)]\n",
    "        end_time = steps_with_score_events[steps_with_score_events['action'] == 'passed']['time'].iloc[-24]\n",
    "        \n",
    "        passed_users.append([user, end_time - start_time])"
   ]
  },
  {
   "cell_type": "code",
   "execution_count": 6,
   "metadata": {
    "collapsed": false
   },
   "outputs": [
    {
     "data": {
      "text/plain": [
       "array([4313, 1264,  821, 1146, 1124, 2622,  713,  972, 4280, 1291], dtype=int64)"
      ]
     },
     "execution_count": 6,
     "metadata": {},
     "output_type": "execute_result"
    }
   ],
   "source": [
    "passed_users = np.array(passed_users)\n",
    "indices = passed_users[:, 1].argsort()\n",
    "passed_users[indices][:10, 0]"
   ]
  }
 ],
 "metadata": {
  "kernelspec": {
   "display_name": "Python 3",
   "language": "python",
   "name": "python3"
  },
  "language_info": {
   "codemirror_mode": {
    "name": "ipython",
    "version": 3
   },
   "file_extension": ".py",
   "mimetype": "text/x-python",
   "name": "python",
   "nbconvert_exporter": "python",
   "pygments_lexer": "ipython3",
   "version": "3.5.1"
  }
 },
 "nbformat": 4,
 "nbformat_minor": 0
}
