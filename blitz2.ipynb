{
 "cells": [
  {
   "cell_type": "code",
   "execution_count": 1,
   "metadata": {
    "collapsed": true
   },
   "outputs": [],
   "source": [
    "import pandas as pd\n",
    "import numpy as np"
   ]
  },
  {
   "cell_type": "code",
   "execution_count": 2,
   "metadata": {
    "collapsed": false
   },
   "outputs": [],
   "source": [
    "events = pd.read_csv('blitz/course-217-events.csv')\n",
    "structure = pd.read_csv('blitz/course-217-structure.csv')"
   ]
  },
  {
   "cell_type": "code",
   "execution_count": 3,
   "metadata": {
    "collapsed": false
   },
   "outputs": [],
   "source": [
    "struct = np.array(structure[['step_id', 'module_position', 'lesson_position', 'step_position']])"
   ]
  },
  {
   "cell_type": "code",
   "execution_count": 4,
   "metadata": {
    "collapsed": false
   },
   "outputs": [],
   "source": [
    "struct_order = struct[:,3] + struct[:,2] * 100 + struct[:,1] * 1000"
   ]
  },
  {
   "cell_type": "code",
   "execution_count": 5,
   "metadata": {
    "collapsed": false
   },
   "outputs": [],
   "source": [
    "steps = struct[struct_order.argsort()][:,0]\n",
    "score = np.zeros_like(steps, dtype=np.float64)"
   ]
  },
  {
   "cell_type": "code",
   "execution_count": 6,
   "metadata": {
    "collapsed": true
   },
   "outputs": [],
   "source": [
    "events = np.array(events) # user_id,action,step_id,time\n",
    "structure = np.array(structure) # course_id,module_id,module_position,lesson_id,\n",
    "                                # lesson_position,step_id,step_position,step_type,step_cost"
   ]
  },
  {
   "cell_type": "code",
   "execution_count": 7,
   "metadata": {
    "collapsed": true
   },
   "outputs": [],
   "source": [
    "users = np.unique(events[:,0])"
   ]
  },
  {
   "cell_type": "code",
   "execution_count": 8,
   "metadata": {
    "collapsed": false
   },
   "outputs": [],
   "source": [
    "max_time = np.max(events[:,3])\n",
    "min_time = np.min(events[:,3])\n",
    "\n",
    "user_step = {} # min,max,disc,ret\n",
    "\n",
    "for step in steps:\n",
    "    for user in users:\n",
    "        user_step[(user, step)] = [max_time, min_time, False, False]"
   ]
  },
  {
   "cell_type": "code",
   "execution_count": 9,
   "metadata": {
    "collapsed": true
   },
   "outputs": [],
   "source": [
    "for event in events:\n",
    "    user_id, _, step_id, time = event\n",
    "    \n",
    "    user_step[(user_id, step_id)][2] = True    \n",
    "    user_step[(user_id, step_id)][0] = min(user_step[(user_id, step_id)][0], time)\n",
    "    user_step[(user_id, step_id)][1] = max(user_step[(user_id, step_id)][1], time)"
   ]
  },
  {
   "cell_type": "code",
   "execution_count": 10,
   "metadata": {
    "collapsed": true
   },
   "outputs": [],
   "source": [
    "for event in events:\n",
    "    user_id, _, step_id, time = event\n",
    "    \n",
    "    ind = np.where(steps[1:] == step_id)[0]\n",
    "    \n",
    "    if ind.size == 0:\n",
    "        continue\n",
    "    \n",
    "    prev_step_id = steps[ind[0]]\n",
    "    \n",
    "    if user_step[(user_id, prev_step_id)][0] < time < user_step[(user_id, prev_step_id)][1]:\n",
    "        user_step[(user_id, prev_step_id)][3] = True"
   ]
  },
  {
   "cell_type": "code",
   "execution_count": 11,
   "metadata": {
    "collapsed": false
   },
   "outputs": [],
   "source": [
    "for i, step in enumerate(steps):\n",
    "    \n",
    "    all_users = 0\n",
    "    ret_users = 0\n",
    "    \n",
    "    for user in users:\n",
    "        _, _, disc, ret = user_step[(user, step)]\n",
    "        if disc:\n",
    "            all_users += 1\n",
    "        if ret:\n",
    "            ret_users += 1\n",
    "        \n",
    "    if all_users == 0:\n",
    "        score[i] = 0\n",
    "    else:\n",
    "        score[i] = 100 * ret_users / all_users"
   ]
  },
  {
   "cell_type": "code",
   "execution_count": 12,
   "metadata": {
    "collapsed": false
   },
   "outputs": [
    {
     "data": {
      "text/plain": [
       "array([39717, 39740, 39735, 41686, 38872, 42593, 41481, 41097, 41604, 41684], dtype=int64)"
      ]
     },
     "execution_count": 12,
     "metadata": {},
     "output_type": "execute_result"
    }
   ],
   "source": [
    "indices = score.argsort()\n",
    "steps = steps[indices]\n",
    "steps[-10:]"
   ]
  }
 ],
 "metadata": {
  "anaconda-cloud": {},
  "kernelspec": {
   "display_name": "Python 3",
   "language": "python",
   "name": "python3"
  },
  "language_info": {
   "codemirror_mode": {
    "name": "ipython",
    "version": 3
   },
   "file_extension": ".py",
   "mimetype": "text/x-python",
   "name": "python",
   "nbconvert_exporter": "python",
   "pygments_lexer": "ipython3",
   "version": "3.5.1"
  }
 },
 "nbformat": 4,
 "nbformat_minor": 0
}
