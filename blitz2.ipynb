{
 "cells": [
  {
   "cell_type": "code",
   "execution_count": 1,
   "metadata": {
    "collapsed": true
   },
   "outputs": [],
   "source": [
    "import pandas as pd\n",
    "import numpy as np"
   ]
  },
  {
   "cell_type": "code",
   "execution_count": 2,
   "metadata": {
    "collapsed": true
   },
   "outputs": [],
   "source": [
    "events = pd.read_csv('blitz/course-217-events.csv')\n",
    "structure = pd.read_csv('blitz/course-217-structure.csv')"
   ]
  },
  {
   "cell_type": "code",
   "execution_count": 3,
   "metadata": {
    "collapsed": false
   },
   "outputs": [],
   "source": [
    "struct = np.array(structure[['step_id', 'module_position', 'lesson_position', 'step_position']])"
   ]
  },
  {
   "cell_type": "code",
   "execution_count": 4,
   "metadata": {
    "collapsed": false
   },
   "outputs": [],
   "source": [
    "struct_order = struct[:,3] + struct[:,2] * 100 + struct[:,1] * 1000"
   ]
  },
  {
   "cell_type": "code",
   "execution_count": 5,
   "metadata": {
    "collapsed": false
   },
   "outputs": [],
   "source": [
    "steps_sort = struct[struct_order.argsort()][:,0]"
   ]
  },
  {
   "cell_type": "code",
   "execution_count": 6,
   "metadata": {
    "collapsed": true
   },
   "outputs": [],
   "source": [
    "users = np.unique(np.array(events['user_id']))"
   ]
  },
  {
   "cell_type": "code",
   "execution_count": 10,
   "metadata": {
    "collapsed": false
   },
   "outputs": [],
   "source": [
    "steps = []\n",
    "\n",
    "for i, step_id in enumerate(steps_sort[:-1]):\n",
    "    all_users = 0\n",
    "    return_users = 0\n",
    "    \n",
    "    curr_step_event = events[events['step_id'] == step_id]\n",
    "    next_step_event = events[events['step_id'] == steps_sort[i+1]]\n",
    "    \n",
    "    for user in users:\n",
    "        curr_step = np.array(curr_step_event[curr_step_event['user_id'] == user]['time'])\n",
    "        next_step = np.array(next_step_event[next_step_event['user_id'] == user]['time'])\n",
    "        \n",
    "        if len(curr_step) > 0:\n",
    "            all_users += 1\n",
    "        if len(curr_step) <= 1:\n",
    "            continue\n",
    "                    \n",
    "        time1 = min(curr_step)\n",
    "        \n",
    "        try:\n",
    "            time2 = min(next_step[next_step > time1])\n",
    "        except:\n",
    "            continue\n",
    "        \n",
    "        try:\n",
    "            time3 = min(curr_step[curr_step > time2])\n",
    "        except:\n",
    "            continue\n",
    "        \n",
    "        return_users += 1\n",
    "        \n",
    "    try:\n",
    "        ret_ability = 100 * return_users / all_users\n",
    "    except:\n",
    "        ret_ability = 0\n",
    "        \n",
    "    steps.append([step_id, ret_ability])"
   ]
  },
  {
   "cell_type": "code",
   "execution_count": 12,
   "metadata": {
    "collapsed": false
   },
   "outputs": [],
   "source": [
    "steps = np.array(steps)"
   ]
  },
  {
   "cell_type": "code",
   "execution_count": 13,
   "metadata": {
    "collapsed": true
   },
   "outputs": [],
   "source": [
    "steps = steps[steps[:,1].argsort()]"
   ]
  },
  {
   "cell_type": "code",
   "execution_count": 15,
   "metadata": {
    "collapsed": false
   },
   "outputs": [
    {
     "data": {
      "text/plain": [
       "array([ 39717.,  39740.,  39735.,  41686.,  38872.,  42593.,  41481.,\n",
       "        41097.,  41604.,  41684.])"
      ]
     },
     "execution_count": 15,
     "metadata": {},
     "output_type": "execute_result"
    }
   ],
   "source": [
    "steps[-10:, 0]"
   ]
  }
 ],
 "metadata": {
  "anaconda-cloud": {},
  "kernelspec": {
   "display_name": "Python [default]",
   "language": "python",
   "name": "python3"
  },
  "language_info": {
   "codemirror_mode": {
    "name": "ipython",
    "version": 3
   },
   "file_extension": ".py",
   "mimetype": "text/x-python",
   "name": "python",
   "nbconvert_exporter": "python",
   "pygments_lexer": "ipython3",
   "version": "3.5.2"
  }
 },
 "nbformat": 4,
 "nbformat_minor": 0
}
